{
 "cells": [
  {
   "cell_type": "code",
   "execution_count": 1,
   "id": "00047014",
   "metadata": {},
   "outputs": [
    {
     "name": "stdout",
     "output_type": "stream",
     "text": [
      "Defaulting to user installation because normal site-packages is not writeable\n",
      "Collecting telethon\n",
      "  Using cached Telethon-1.40.0-py3-none-any.whl.metadata (3.9 kB)\n",
      "Collecting pyaes (from telethon)\n",
      "  Using cached pyaes-1.6.1-py3-none-any.whl\n",
      "Collecting rsa (from telethon)\n",
      "  Using cached rsa-4.9.1-py3-none-any.whl.metadata (5.6 kB)\n",
      "Collecting pyasn1>=0.1.3 (from rsa->telethon)\n",
      "  Using cached pyasn1-0.6.1-py3-none-any.whl.metadata (8.4 kB)\n",
      "Using cached Telethon-1.40.0-py3-none-any.whl (722 kB)\n",
      "Using cached rsa-4.9.1-py3-none-any.whl (34 kB)\n",
      "Using cached pyasn1-0.6.1-py3-none-any.whl (83 kB)\n",
      "Installing collected packages: pyaes, pyasn1, rsa, telethon\n",
      "Successfully installed pyaes-1.6.1 pyasn1-0.6.1 rsa-4.9.1 telethon-1.40.0\n",
      "Note: you may need to restart the kernel to use updated packages.\n"
     ]
    },
    {
     "name": "stderr",
     "output_type": "stream",
     "text": [
      "\n",
      "[notice] A new release of pip is available: 24.3.1 -> 25.1.1\n",
      "[notice] To update, run: python.exe -m pip install --upgrade pip\n"
     ]
    }
   ],
   "source": [
    "%pip install telethon"
   ]
  },
  {
   "cell_type": "code",
   "execution_count": 3,
   "id": "f1fbd272",
   "metadata": {},
   "outputs": [],
   "source": [
    "import asyncio\n",
    "import re\n",
    "import unicodedata\n",
    "from datetime import datetime\n",
    "from telethon import TelegramClient\n",
    "import pandas as pd\n",
    "import json\n",
    "import os\n",
    "from pathlib import Path"
   ]
  },
  {
   "cell_type": "code",
   "execution_count": 10,
   "id": "9511ffa9",
   "metadata": {},
   "outputs": [],
   "source": [
    "# Configuration for Telegram API (replace with your credentials)\n",
    "api_id = '20617136'  # Obtain from my.telegram.org\n",
    "api_hash = '7b2180099f0e6695eae4a28b3d1a42d2'  # Obtain from my.telegram.org\n",
    "phone = '+251910396023'  # Your phone number with country code\n",
    "session_name = 'ethiomart'"
   ]
  },
  {
   "cell_type": "code",
   "execution_count": 11,
   "id": "5b6cb7a3",
   "metadata": {},
   "outputs": [],
   "source": [
    "# List of Ethiopian e-commerce Telegram channels\n",
    "channels = [\n",
    "    't.me/ZemenExpress',  \n",
    "    't.me/ethio_brand_collection',           \n",
    "    't.me/Leyueqa',               \n",
    "    't.me/AwasMart',         \n",
    "    't.me/marakibrand'     \n",
    "]"
   ]
  },
  {
   "cell_type": "code",
   "execution_count": 12,
   "id": "83d6c9ff",
   "metadata": {},
   "outputs": [],
   "source": [
    "# Initialize Telegram client\n",
    "client = TelegramClient(session_name, api_id, api_hash)\n"
   ]
  },
  {
   "cell_type": "code",
   "execution_count": 13,
   "id": "8e272ff1",
   "metadata": {},
   "outputs": [],
   "source": [
    "\n",
    "async def fetch_messages(channel, limit=100):\n",
    "    \"\"\"\n",
    "    Fetch messages from a specified Telegram channel.\n",
    "    Args:\n",
    "        channel (str): Telegram channel URL or username.\n",
    "        limit (int): Number of messages to fetch.\n",
    "    Returns:\n",
    "        list: List of message dictionaries with text, images, and metadata.\n",
    "    \"\"\"\n",
    "    messages_data = []\n",
    "    async with client:\n",
    "        entity = await client.get_entity(channel)\n",
    "        async for message in client.iter_messages(entity, limit=limit):\n",
    "            msg_data = {\n",
    "                'channel': channel,\n",
    "                'message_id': message.id,\n",
    "                'timestamp': message.date.isoformat(),\n",
    "                'sender_id': message.sender_id,\n",
    "                'text': message.text if message.text else '',\n",
    "                'has_image': bool(message.photo),\n",
    "                'image_path': None,\n",
    "                'has_document': bool(message.document),\n",
    "                'document_path': None\n",
    "            }\n",
    "            \n",
    "            # Download images if present\n",
    "            if message.photo:\n",
    "                image_path = f\"data/images/{channel.split('/')[-1]}_{message.id}.jpg\"\n",
    "                Path(image_path).parent.mkdir(parents=True, exist_ok=True)\n",
    "                await client.download_media(message, image_path)\n",
    "                msg_data['image_path'] = image_path\n",
    "            \n",
    "            # Download documents if present\n",
    "            if message.document:\n",
    "                doc_path = f\"data/documents/{channel.split('/')[-1]}_{message.id}_{message.document.attributes[0].file_name}\"\n",
    "                Path(doc_path).parent.mkdir(parents=True, exist_ok=True)\n",
    "                await client.download_media(message, doc_path)\n",
    "                msg_data['document_path'] = doc_path\n",
    "            \n",
    "            messages_data.append(msg_data)\n",
    "    \n",
    "    return messages_data\n"
   ]
  },
  {
   "cell_type": "code",
   "execution_count": 14,
   "id": "49d698f8",
   "metadata": {},
   "outputs": [],
   "source": [
    "\n",
    "def normalize_amharic_text(text):\n",
    "    \"\"\"\n",
    "    Normalize Amharic text by handling specific linguistic features.\n",
    "    Args:\n",
    "        text (str): Input text in Amharic or mixed language.\n",
    "    Returns:\n",
    "        str: Normalized text.\n",
    "    \"\"\"\n",
    "    if not text:\n",
    "        return ''\n",
    "    \n",
    "    # Normalize Unicode characters (e.g., combining characters in Amharic)\n",
    "    text = unicodedata.normalize('NFC', text)\n",
    "    \n",
    "    # Replace common Amharic variations (e.g., ሃ/ሀ/ኃ to ሀ)\n",
    "    amharic_normalizations = {\n",
    "        r'[ሃኃ]': 'ሀ',\n",
    "        r'[ሓኅ]': 'ሐ',\n",
    "        r'[ጸፀ]': 'ጸ',\n",
    "        # Add more mappings as needed\n",
    "    }\n",
    "    for pattern, replacement in amharic_normalizations.items():\n",
    "        text = re.sub(pattern, replacement, text)\n",
    "    \n",
    "    # Remove extra whitespace and normalize punctuation\n",
    "    text = re.sub(r'\\s+', ' ', text.strip())\n",
    "    text = re.sub(r'[।|።]', '.', text)  # Replace Amharic sentence terminator with period\n",
    "    \n",
    "    return text\n"
   ]
  },
  {
   "cell_type": "code",
   "execution_count": 15,
   "id": "2c90490c",
   "metadata": {},
   "outputs": [],
   "source": [
    "\n",
    "def tokenize_amharic_text(text):\n",
    "    \"\"\"\n",
    "    Tokenize Amharic text while preserving meaningful units.\n",
    "    Args:\n",
    "        text (str): Normalized Amharic text.\n",
    "    Returns:\n",
    "        list: List of tokens.\n",
    "    \"\"\"\n",
    "    # Simple word tokenization, preserving Amharic characters\n",
    "    tokens = re.findall(r'[\\wሀ-ፙ]+|[.,!?;]', text, re.UNICODE)\n",
    "    return tokens\n"
   ]
  },
  {
   "cell_type": "code",
   "execution_count": 16,
   "id": "8bc70be6",
   "metadata": {},
   "outputs": [],
   "source": [
    "\n",
    "def preprocess_message(msg_data):\n",
    "    \"\"\"\n",
    "    Preprocess a single message's text content.\n",
    "    Args:\n",
    "        msg_data (dict): Message dictionary with text and metadata.\n",
    "    Returns:\n",
    "        dict: Updated message dictionary with processed text and tokens.\n",
    "    \"\"\"\n",
    "    # Normalize and tokenize text\n",
    "    normalized_text = normalize_amharic_text(msg_data['text'])\n",
    "    tokens = tokenize_amharic_text(normalized_text)\n",
    "    \n",
    "    msg_data['normalized_text'] = normalized_text\n",
    "    msg_data['tokens'] = tokens\n",
    "    return msg_data\n"
   ]
  },
  {
   "cell_type": "code",
   "execution_count": null,
   "id": "f99581ad",
   "metadata": {},
   "outputs": [
    {
     "name": "stdout",
     "output_type": "stream",
     "text": [
      "Fetching messages from t.me/ZemenExpress...\n"
     ]
    }
   ],
   "source": [
    "\n",
    "async def main():\n",
    "    \"\"\"\n",
    "    Main function to fetch and preprocess messages from Telegram channels.\n",
    "    \"\"\"\n",
    "    all_messages = []\n",
    "    \n",
    "    # Create directories for storing data\n",
    "    Path('data/images').mkdir(parents=True, exist_ok=True)\n",
    "    Path('data/documents').mkdir(parents=True, exist_ok=True)\n",
    "    Path('data/processed').mkdir(parents=True, exist_ok=True)\n",
    "    \n",
    "    # Fetch messages from all channels\n",
    "    for channel in channels:\n",
    "        print(f\"Fetching messages from {channel}...\")\n",
    "        messages = await fetch_messages(channel, limit=100)\n",
    "        # Preprocess each message\n",
    "        processed_messages = [preprocess_message(msg) for msg in messages]\n",
    "        all_messages.extend(processed_messages)\n",
    "    \n",
    "    # Convert to DataFrame and save as CSV\n",
    "    df = pd.DataFrame(all_messages)\n",
    "    df.to_csv('data/processed/telegram_messages.csv', index=False, encoding='utf-8')\n",
    "    \n",
    "    # Save as JSON for machine-readable format\n",
    "    with open('data/processed/telegram_messages.json', 'w', encoding='utf-8') as f:\n",
    "        json.dump(all_messages, f, ensure_ascii=False, indent=2)\n",
    "    \n",
    "    print(f\"Processed {len(all_messages)} messages and saved to data/processed/\")\n",
    "\n",
    "# Run the ingestion and preprocessing pipeline in Jupyter Notebook\n",
    "await main()"
   ]
  },
  {
   "cell_type": "code",
   "execution_count": null,
   "id": "0bed1377",
   "metadata": {},
   "outputs": [],
   "source": []
  }
 ],
 "metadata": {
  "kernelspec": {
   "display_name": "Python 3",
   "language": "python",
   "name": "python3"
  },
  "language_info": {
   "codemirror_mode": {
    "name": "ipython",
    "version": 3
   },
   "file_extension": ".py",
   "mimetype": "text/x-python",
   "name": "python",
   "nbconvert_exporter": "python",
   "pygments_lexer": "ipython3",
   "version": "3.13.1"
  }
 },
 "nbformat": 4,
 "nbformat_minor": 5
}
